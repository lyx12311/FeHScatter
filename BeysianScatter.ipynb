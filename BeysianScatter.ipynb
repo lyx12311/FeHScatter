{
 "cells": [
  {
   "cell_type": "code",
   "execution_count": 3,
   "metadata": {},
   "outputs": [
    {
     "data": {
      "text/plain": [
       "0.0"
      ]
     },
     "execution_count": 3,
     "metadata": {},
     "output_type": "execute_result"
    }
   ],
   "source": [
    "from HeaderP import *\n",
    "#np.log(1)"
   ]
  },
  {
   "cell_type": "code",
   "execution_count": 1,
   "metadata": {},
   "outputs": [
    {
     "ename": "NameError",
     "evalue": "name 'np' is not defined",
     "output_type": "error",
     "traceback": [
      "\u001b[0;31m---------------------------------------------------------------------------\u001b[0m",
      "\u001b[0;31mNameError\u001b[0m                                 Traceback (most recent call last)",
      "\u001b[0;32m<ipython-input-1-e4a25b6d09c0>\u001b[0m in \u001b[0;36m<module>\u001b[0;34m\u001b[0m\n\u001b[1;32m      1\u001b[0m def monoage_line_range_mc(feh,r,age,feh_err, r_err, age_err,\n\u001b[0;32m----> 2\u001b[0;31m                           \u001b[0magebin\u001b[0m\u001b[0;34m=\u001b[0m\u001b[0mnp\u001b[0m\u001b[0;34m.\u001b[0m\u001b[0mlinspace\u001b[0m\u001b[0;34m(\u001b[0m\u001b[0;36m0\u001b[0m\u001b[0;34m,\u001b[0m\u001b[0;36m14\u001b[0m\u001b[0;34m,\u001b[0m\u001b[0;36m8\u001b[0m\u001b[0;34m)\u001b[0m\u001b[0;34m,\u001b[0m\u001b[0mxlims\u001b[0m\u001b[0;34m=\u001b[0m\u001b[0;34m[\u001b[0m\u001b[0;36m6\u001b[0m\u001b[0;34m,\u001b[0m\u001b[0;36m12\u001b[0m\u001b[0;34m]\u001b[0m\u001b[0;34m,\u001b[0m\u001b[0;34m\u001b[0m\u001b[0;34m\u001b[0m\u001b[0m\n\u001b[0m\u001b[1;32m      3\u001b[0m                           ylims=[-1.5,0.5],feherr=[], mcmc=100):\n\u001b[1;32m      4\u001b[0m     \u001b[0mcolors\u001b[0m \u001b[0;34m=\u001b[0m \u001b[0mgetcolor\u001b[0m\u001b[0;34m(\u001b[0m\u001b[0mrange\u001b[0m\u001b[0;34m(\u001b[0m\u001b[0mlen\u001b[0m\u001b[0;34m(\u001b[0m\u001b[0magebin\u001b[0m\u001b[0;34m)\u001b[0m\u001b[0;34m+\u001b[0m\u001b[0;36m1\u001b[0m\u001b[0;34m)\u001b[0m\u001b[0;34m)\u001b[0m\u001b[0;34m\u001b[0m\u001b[0;34m\u001b[0m\u001b[0m\n\u001b[1;32m      5\u001b[0m     \u001b[0mslopes\u001b[0m \u001b[0;34m=\u001b[0m \u001b[0mnp\u001b[0m\u001b[0;34m.\u001b[0m\u001b[0mzeros\u001b[0m\u001b[0;34m(\u001b[0m\u001b[0mlen\u001b[0m\u001b[0;34m(\u001b[0m\u001b[0magebin\u001b[0m\u001b[0;34m)\u001b[0m\u001b[0;34m-\u001b[0m\u001b[0;36m1\u001b[0m\u001b[0;34m)\u001b[0m\u001b[0;34m\u001b[0m\u001b[0;34m\u001b[0m\u001b[0m\n",
      "\u001b[0;31mNameError\u001b[0m: name 'np' is not defined"
     ]
    }
   ],
   "source": [
    "import corner\n",
    "\n",
    "\n",
    "def log_marg_prob_scatter(params, S, yn, xn):\n",
    "    log_lambda = params\n",
    "    m = 0\n",
    "    b = 0\n",
    "    v = np.array([-m, 1.0])\n",
    "\n",
    "    # Enforce the log-uniform prior on lambda. \n",
    "    if -5.0 < log_lambda < 0:\n",
    "        # Compute \\Sigma^2 and \\Delta.\n",
    "        lamd = np.exp(log_lambda)\n",
    "        Lambda = np.zeros((2,2))\n",
    "        Lambda[0,0], Lambda[0,1], Lambda[1,0], Lambda[1,1] =  m**2, -m, -m, 1\n",
    "        Lambda = Lambda * lamd**2/(1+m**2)\n",
    "        Sigma2 = np.dot(np.dot(S+Lambda, v), v)\n",
    "        Delta = m * xn + b - yn\n",
    "\n",
    "        # Compute the log likelihood up to a constant.\n",
    "        ll = -0.5 * np.sum(Delta**2 / Sigma2 + np.log(Sigma2))\n",
    "        return ll + log_prior(params)\n",
    "    return -np.inf\n",
    "\n",
    "import emcee\n",
    "def getscatt_bay(feh, r, age, feh_err, r_err, agebin=np.linspace(0,14,15),\n",
    "             rbin=10, xlims=[0,15],ylims=[-1.5,0.5],checkplt=False):\n",
    "    \n",
    "    nwalkers=64\n",
    "    rbins = np.linspace(xlims[0], xlims[1], rbin)\n",
    "    scatters = np.zeros((len(agebin)-1, rbin-1))\n",
    "    scatters_err = np.zeros((len(agebin)-1, rbin-1))\n",
    "    \n",
    "    m = (r>xlims[0])&(r<xlims[1])\n",
    "    feh, r, age = feh[m], r[m], age[m]\n",
    "    feherr = feh_err[m]\n",
    "    rerr = r_err[m]\n",
    "    \n",
    "    for i in range(len(agebin)-1):\n",
    "        m = (age>agebin[i])&(age<agebin[i+1])\n",
    "        r_sing, feh_sing = r[m], feh[m]\n",
    "        feh_err_sing = feherr[m]\n",
    "        r_err_sing = rerr[m]\n",
    "        \n",
    "        for j in trange(rbin-1):\n",
    "            \n",
    "            m = (r_sing>rbins[j])&(r_sing<rbins[j+1])\n",
    "            if sum(m)<10:\n",
    "                #print(agebin[i], rbins[j], sum(m))\n",
    "                scatters[i,j] = np.nan\n",
    "            else:\n",
    "                    \n",
    "                r_sing_2, feh_sing_2 = r_sing[m], feh_sing[m]\n",
    "                feh_err_sing_2 = feh_err_sing[m]\n",
    "                r_err_sing_2 = r_err_sing[m]\n",
    "        \n",
    "                S = np.zeros((len(feh_sing_2),2,2))\n",
    "                for k in range(len(feh_sing_2)):\n",
    "                    S[k,0,0] = r_err_sing_2[k]**2\n",
    "                    S[k,1,1] = feh_err_sing_2[k]**2\n",
    "                print(agebin[i], rbins[j], len(feh_sing_2))\n",
    "                z = np.polyfit(r_err_sing_2,feh_sing_2,1)\n",
    "                sampler_scatter = emcee.EnsembleSampler(nwalkers, 3, log_marg_prob_scatter, args=(S, feh_sing_2, r_sing_2))\n",
    "                p0 = np.array([z[0], z[1], np.log(0.03)])\n",
    "                p0 = p0 + 1e-4 * np.random.randn(nwalkers, len(p0))\n",
    "                pos, _, _ = sampler_scatter.run_mcmc(p0, 1000)\n",
    "                sampler_scatter.reset()\n",
    "                sampler_scatter.run_mcmc(pos, 6000)\n",
    "                samples_scatter = sampler_scatter.flatchain\n",
    "\n",
    "                \"\"\"# m\n",
    "                mcmc = np.percentile(samples_scatter[:, 0], [16, 50, 84])\n",
    "                q = np.diff(mcmc)\n",
    "                hi_m[i,0], hi_m[i,1], hi_m[i,2] = mcmc[1], q[0], q[1]\n",
    "\n",
    "                # b\n",
    "                mcmc = np.percentile(samples_scatter[:, 1], [16, 50, 84])\n",
    "                q = np.diff(mcmc)\n",
    "                hi_b[i,0], hi_b[i,1], hi_b[i,2] = mcmc[1], q[0], q[1]\"\"\"\n",
    "\n",
    "                # dispersion\n",
    "                mcmc = np.percentile(samples_scatter[:, 2], [16, 50, 84])\n",
    "                q = np.diff(mcmc)\n",
    "                scatters[i,j], dishi, dislow = mcmc[1], q[0], q[1]\n",
    "                scatters_err[i,j] = np.mean(abs(dishi)+abs(dislow))\n",
    "                \n",
    "            \n",
    "                \n",
    "    return (agebin[:-1]+agebin[1:])/2, (rbins[:-1]+rbins[1:])/2, scatters, scatters_err\n",
    "\n",
    "\n",
    "\n"
   ]
  }
 ],
 "metadata": {
  "kernelspec": {
   "display_name": "Python 3",
   "language": "python",
   "name": "python3"
  },
  "language_info": {
   "codemirror_mode": {
    "name": "ipython",
    "version": 3
   },
   "file_extension": ".py",
   "mimetype": "text/x-python",
   "name": "python",
   "nbconvert_exporter": "python",
   "pygments_lexer": "ipython3",
   "version": "3.8.5"
  }
 },
 "nbformat": 4,
 "nbformat_minor": 4
}
